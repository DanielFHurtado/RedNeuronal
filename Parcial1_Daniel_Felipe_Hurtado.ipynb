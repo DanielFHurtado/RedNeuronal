{
  "nbformat": 4,
  "nbformat_minor": 0,
  "metadata": {
    "colab": {
      "provenance": [],
      "authorship_tag": "ABX9TyMjkPiDvXGcTmY0wPSaZ9/C",
      "include_colab_link": true
    },
    "kernelspec": {
      "name": "python3",
      "display_name": "Python 3"
    },
    "language_info": {
      "name": "python"
    }
  },
  "cells": [
    {
      "cell_type": "markdown",
      "metadata": {
        "id": "view-in-github",
        "colab_type": "text"
      },
      "source": [
        "<a href=\"https://colab.research.google.com/github/DanielFHurtado/RedNeuronal/blob/main/Parcial1_Daniel_Felipe_Hurtado.ipynb\" target=\"_parent\"><img src=\"https://colab.research.google.com/assets/colab-badge.svg\" alt=\"Open In Colab\"/></a>"
      ]
    },
    {
      "cell_type": "code",
      "execution_count": null,
      "metadata": {
        "id": "qL7xhh-eYsBz"
      },
      "outputs": [],
      "source": [
        "#Importar librerias necesarias\n",
        "import tensorflow as tf\n",
        "from tensorflow import keras\n",
        "\n",
        "# Cargar el dataset MNIST\n",
        "(x_train, y_train), (x_test, y_test) = keras.datasets.mnist.load_data()\n",
        "\n",
        "#normalizar los datos (escala de 0 a 1\n",
        "x_train, x_test = x_train / 255.0, x_test / 255.0\n",
        "\n",
        "#Definir la red nauronal\n",
        "model = keras.Sequential([\n",
        "    keras.layers.Flatten(input_shape=(28, 28)), #Capa de entrada\n",
        "    keras.layers.Dense(128, activation='relu'), #Capa oculta\n",
        "    keras.layers.Dense(10, activation='softmax') #Capa de salida (10)\n",
        "])\n",
        "\n",
        "# Compliar el modelo (modelo de aprendizaje)\n",
        "model.compile(optimizer='adam',\n",
        "              loss='sparse_categorical_crossentropy',\n",
        "              metrics=['accuracy'])\n",
        "\n",
        "# ENtrenar la red neuronal\n",
        "print(\"Modo de aprendizaje: Entrenando la red neuronal...\")\n",
        "model.fit(x_train, y_train, epochs=5, validation_data=(x_test, y_test))"
      ]
    },
    {
      "cell_type": "markdown",
      "source": [
        "CAMBIO 1"
      ],
      "metadata": {
        "id": "pWjsFvccZn-d"
      }
    },
    {
      "cell_type": "code",
      "source": [
        "#Importar librerias necesarias\n",
        "import tensorflow as tf\n",
        "from tensorflow import keras\n",
        "\n",
        "# Cargar el dataset MNIST\n",
        "(x_train, y_train), (x_test, y_test) = keras.datasets.mnist.load_data()\n",
        "\n",
        "#normalizar los datos (escala de 0 a 1\n",
        "x_train, x_test = x_train / 255.0, x_test / 255.0\n",
        "\n",
        "#Definir la red nauronal\n",
        "model = keras.Sequential([\n",
        "    keras.layers.Flatten(input_shape=(28, 28)), #Capa de entrada\n",
        "    keras.layers.Dense(128, activation='relu'), #Capa oculta\n",
        "    keras.layers.Dense(10, activation='softmax') #Capa de salida (10)\n",
        "])\n",
        "\n",
        "# Compliar el modelo (modelo de aprendizaje)\n",
        "model.compile(optimizer='adam',\n",
        "              loss='sparse_categorical_crossentropy',\n",
        "              metrics=['accuracy'])\n",
        "\n",
        "# Entrenar el modelo\n",
        "model.fit(x_train, y_train, epochs=3)\n",
        "\n",
        "#Evaluar el modelo\n",
        "test_loss, test_acc = model.evaluate(x_test, y_test)\n",
        "print(f\"Presicion en el conjunto de prueba: {test_acc:.4f}\")"
      ],
      "metadata": {
        "id": "T4u0J2HjZjl-"
      },
      "execution_count": null,
      "outputs": []
    },
    {
      "cell_type": "markdown",
      "source": [
        "CAMBIO 2"
      ],
      "metadata": {
        "id": "kBn5diLTeSHe"
      }
    },
    {
      "cell_type": "code",
      "source": [
        "# Importar las bibliotecas necesarias\n",
        "import tensorflow as tf\n",
        "from tensorflow.keras import layers, models\n",
        "import matplotlib.pyplot as plt  # Para visualizar las imágenes\n",
        "\n",
        "# Cargar y preparar los datos de MNIST\n",
        "(x_train, y_train), (x_test, y_test) = tf.keras.datasets.mnist.load_data()\n",
        "\n",
        "# Normalizar los datos (valores entre 0 y 1)\n",
        "x_train = x_train / 255.0\n",
        "x_test = x_test / 255.0\n",
        "\n",
        "# Mostrar algunas imágenes de ejemplo\n",
        "plt.figure(figsize=(10, 5))  # Tamaño de la figura\n",
        "for i in range(10):  # Mostrar 10 imágenes\n",
        "    plt.subplot(2, 5, i+1)  # Organizar en 2 filas y 5 columnas\n",
        "    plt.imshow(x_train[i], cmap='gray')  # Mostrar la imagen en escala de grises\n",
        "    plt.title(f'Dígito: {y_train[i]}')  # Título con la etiqueta real\n",
        "    plt.axis('off')  # Quitar ejes\n",
        "plt.show()  # Mostrar todas las imágenes\n",
        "\n",
        "# Crear un modelo simple\n",
        "model = models.Sequential([\n",
        "    layers.Input(shape=(28, 28)),  # 28 pasos de tiempo (filas), 28 caracteristicas\n",
        "    layers.LSTM(128, return_sequences=False),  # Capa LSTM con 128 unidades, sin dense\n",
        "    layers.Dense(10, activation='softmax') # Capa de salida con 10 clases\n",
        "])\n",
        "\n",
        "# Compilar el modelo\n",
        "model.compile(optimizer='adam',\n",
        "              loss='sparse_categorical_crossentropy',\n",
        "              metrics=['accuracy'])\n",
        "\n",
        "#Resumen del modelo\n",
        "model.summary()\n",
        "\n",
        "# Entrenar el modelo\n",
        "model.fit(x_train, y_train, epochs=3)\n",
        "\n",
        "# Evaluar el modelo\n",
        "test_loss, test_acc = model.evaluate(x_test, y_test)\n",
        "print(f'Precisión en el conjunto de prueba: {test_acc:.4f}')"
      ],
      "metadata": {
        "colab": {
          "base_uri": "https://localhost:8080/",
          "height": 729
        },
        "id": "jRwBzrz8eVgZ",
        "outputId": "8670c7ef-90e7-4921-8fcc-9525f4b7c46e"
      },
      "execution_count": null,
      "outputs": [
        {
          "output_type": "display_data",
          "data": {
            "text/plain": [
              "<Figure size 1000x500 with 10 Axes>"
            ],
            "image/png": "[encoded data removed]"
          },
          "metadata": {}
        },
        {
          "output_type": "display_data",
          "data": {
            "text/plain": [
              "\u001b[1mModel: \"sequential_1\"\u001b[0m\n"
            ],
            "text/html": [
              "<pre style=\"white-space:pre;overflow-x:auto;line-height:normal;font-family:Menlo,'DejaVu Sans Mono',consolas,'Courier New',monospace\"><span style=\"font-weight: bold\">Model: \"sequential_1\"</span>\n",
              "</pre>\n"
            ]
          },
          "metadata": {}
        },
        {
          "output_type": "display_data",
          "data": {
            "text/plain": [
              "┏━━━━━━━━━━━━━━━━━━━━━━━━━━━━━━━━━━━━━━┳━━━━━━━━━━━━━━━━━━━━━━━━━━━━━┳━━━━━━━━━━━━━━━━━┓\n",
              "┃\u001b[1m \u001b[0m\u001b[1mLayer (type)                        \u001b[0m\u001b[1m \u001b[0m┃\u001b[1m \u001b[0m\u001b[1mOutput Shape               \u001b[0m\u001b[1m \u001b[0m┃\u001b[1m \u001b[0m\u001b[1m        Param #\u001b[0m\u001b[1m \u001b[0m┃\n",
              "┡━━━━━━━━━━━━━━━━━━━━━━━━━━━━━━━━━━━━━━╇━━━━━━━━━━━━━━━━━━━━━━━━━━━━━╇━━━━━━━━━━━━━━━━━┩\n",
              "│ lstm (\u001b[38;5;33mLSTM\u001b[0m)                          │ (\u001b[38;5;45mNone\u001b[0m, \u001b[38;5;34m128\u001b[0m)                 │          \u001b[38;5;34m80,384\u001b[0m │\n",
              "├──────────────────────────────────────┼─────────────────────────────┼─────────────────┤\n",
              "│ dense_2 (\u001b[38;5;33mDense\u001b[0m)                      │ (\u001b[38;5;45mNone\u001b[0m, \u001b[38;5;34m10\u001b[0m)                  │           \u001b[38;5;34m1,290\u001b[0m │\n",
              "└──────────────────────────────────────┴─────────────────────────────┴─────────────────┘\n"
            ],
            "text/html": [
              "<pre style=\"white-space:pre;overflow-x:auto;line-height:normal;font-family:Menlo,'DejaVu Sans Mono',consolas,'Courier New',monospace\">┏━━━━━━━━━━━━━━━━━━━━━━━━━━━━━━━━━━━━━━┳━━━━━━━━━━━━━━━━━━━━━━━━━━━━━┳━━━━━━━━━━━━━━━━━┓\n",
              "┃<span style=\"font-weight: bold\"> Layer (type)                         </span>┃<span style=\"font-weight: bold\"> Output Shape                </span>┃<span style=\"font-weight: bold\">         Param # </span>┃\n",
              "┡━━━━━━━━━━━━━━━━━━━━━━━━━━━━━━━━━━━━━━╇━━━━━━━━━━━━━━━━━━━━━━━━━━━━━╇━━━━━━━━━━━━━━━━━┩\n",
              "│ lstm (<span style=\"color: #0087ff; text-decoration-color: #0087ff\">LSTM</span>)                          │ (<span style=\"color: #00d7ff; text-decoration-color: #00d7ff\">None</span>, <span style=\"color: #00af00; text-decoration-color: #00af00\">128</span>)                 │          <span style=\"color: #00af00; text-decoration-color: #00af00\">80,384</span> │\n",
              "├──────────────────────────────────────┼─────────────────────────────┼─────────────────┤\n",
              "│ dense_2 (<span style=\"color: #0087ff; text-decoration-color: #0087ff\">Dense</span>)                      │ (<span style=\"color: #00d7ff; text-decoration-color: #00d7ff\">None</span>, <span style=\"color: #00af00; text-decoration-color: #00af00\">10</span>)                  │           <span style=\"color: #00af00; text-decoration-color: #00af00\">1,290</span> │\n",
              "└──────────────────────────────────────┴─────────────────────────────┴─────────────────┘\n",
              "</pre>\n"
            ]
          },
          "metadata": {}
        },
        {
          "output_type": "display_data",
          "data": {
            "text/plain": [
              "\u001b[1m Total params: \u001b[0m\u001b[38;5;34m81,674\u001b[0m (319.04 KB)\n"
            ],
            "text/html": [
              "<pre style=\"white-space:pre;overflow-x:auto;line-height:normal;font-family:Menlo,'DejaVu Sans Mono',consolas,'Courier New',monospace\"><span style=\"font-weight: bold\"> Total params: </span><span style=\"color: #00af00; text-decoration-color: #00af00\">81,674</span> (319.04 KB)\n",
              "</pre>\n"
            ]
          },
          "metadata": {}
        },
        {
          "output_type": "display_data",
          "data": {
            "text/plain": [
              "\u001b[1m Trainable params: \u001b[0m\u001b[38;5;34m81,674\u001b[0m (319.04 KB)\n"
            ],
            "text/html": [
              "<pre style=\"white-space:pre;overflow-x:auto;line-height:normal;font-family:Menlo,'DejaVu Sans Mono',consolas,'Courier New',monospace\"><span style=\"font-weight: bold\"> Trainable params: </span><span style=\"color: #00af00; text-decoration-color: #00af00\">81,674</span> (319.04 KB)\n",
              "</pre>\n"
            ]
          },
          "metadata": {}
        },
        {
          "output_type": "display_data",
          "data": {
            "text/plain": [
              "\u001b[1m Non-trainable params: \u001b[0m\u001b[38;5;34m0\u001b[0m (0.00 B)\n"
            ],
            "text/html": [
              "<pre style=\"white-space:pre;overflow-x:auto;line-height:normal;font-family:Menlo,'DejaVu Sans Mono',consolas,'Courier New',monospace\"><span style=\"font-weight: bold\"> Non-trainable params: </span><span style=\"color: #00af00; text-decoration-color: #00af00\">0</span> (0.00 B)\n",
              "</pre>\n"
            ]
          },
          "metadata": {}
        },
        {
          "output_type": "stream",
          "name": "stdout",
          "text": [
            "Epoch 1/3\n",
            "\u001b[1m1875/1875\u001b[0m \u001b[32m━━━━━━━━━━━━━━━━━━━━\u001b[0m\u001b[37m\u001b[0m \u001b[1m42s\u001b[0m 22ms/step - accuracy: 0.7749 - loss: 0.6682\n",
            "Epoch 2/3\n",
            "\u001b[1m1875/1875\u001b[0m \u001b[32m━━━━━━━━━━━━━━━━━━━━\u001b[0m\u001b[37m\u001b[0m \u001b[1m42s\u001b[0m 22ms/step - accuracy: 0.9670 - loss: 0.1094\n",
            "Epoch 3/3\n",
            "\u001b[1m1875/1875\u001b[0m \u001b[32m━━━━━━━━━━━━━━━━━━━━\u001b[0m\u001b[37m\u001b[0m \u001b[1m81s\u001b[0m 22ms/step - accuracy: 0.9775 - loss: 0.0744\n",
            "\u001b[1m313/313\u001b[0m \u001b[32m━━━━━━━━━━━━━━━━━━━━\u001b[0m\u001b[37m\u001b[0m \u001b[1m3s\u001b[0m 10ms/step - accuracy: 0.9777 - loss: 0.0770\n",
            "Precisión en el conjunto de prueba: 0.9812\n"
          ]
        }
      ]
    },
    {
      "cell_type": "markdown",
      "source": [
        "Ejercicio 3"
      ],
      "metadata": {
        "id": "zBND9Z32ZWSh"
      }
    },
    {
      "cell_type": "code",
      "source": [
        "# Importar las bibliotecas necesarias\n",
        "import tensorflow as tf\n",
        "from tensorflow.keras import layers, models\n",
        "import matplotlib.pyplot as plt\n",
        "import numpy as np\n",
        "\n",
        "# cargar y preparar los datos de MNIST\n",
        "(x_train, y_train), (x_test, y_test) = tf.keras.datasets.mnist.load_data()\n",
        "\n",
        "# Normalizar los datos (valores entre 0 y 1)\n",
        "x_train = x_train / 255.0\n",
        "x_test = x_test / 255.0\n",
        "\n",
        "# Crear un modelo con memoria simple (simpleRNN)\n",
        "model = models.Sequential([\n",
        "    layers.Input(shape=(28, 28)), # 28 pasos de tiempo (filas), 28 caracteristicas (pixeles por fila)\n",
        "    layers.SimpleRNN(64), # Capa SimpleRNN con 64 unidades\n",
        "    layers.Dense(10, activation='softmax') # Capa de salida con 10 clases\n",
        "])\n",
        "\n",
        "# Compilar el modelo\n",
        "model.compile(optimizer='adam',\n",
        "              loss='sparse_categorical_crossentropy',\n",
        "              metrics=['accuracy'])\n",
        "\n",
        "# Entrenar el modelo\n",
        "print(\"Entrenando el modelo...\")\n",
        "model.fit(x_train, y_train, epochs=3, verbose=1)\n",
        "\n",
        "# Evaluar el modelo en el conjunto de prueba\n",
        "test_loss, test_acc = model.evaluate(x_test, y_test, verbose=0)\n",
        "print(f\"\\nPrecision en el conjunto de prueba: {test_acc:.4f}\")\n",
        "\n",
        "# Elegir el digito especifico que quieres predecir (0-9)\n",
        "digito_deseado = 1 #cambia este numero (0-9) para predecir el digito que quieras\n",
        "\n",
        "# Buscar una imagen en x_test que sea el digito deseado\n",
        "indice = None\n",
        "for i in range(len(x_test)):\n",
        "  if y_test[i] == digito_deseado:\n",
        "    indice = i\n",
        "    break\n",
        "\n",
        "if indice is not None:\n",
        "  # Seleccionar la imagen y su tiqueta real\n",
        "  imagen_prueba = x_test[indice]\n",
        "  etiqueta_real = y_test[indice]\n",
        "\n",
        "  # Mostrar la imagen seleccionada\n",
        "  plt.figure(figsize=(5, 5))\n",
        "  plt.imshow(imagen_prueba, cmap='gray')\n",
        "  plt.title(f'imagen seleccionada - Etiqueta real: {etiqueta_real}')\n",
        "  plt.axis('off')\n",
        "  plt.show()\n",
        "\n",
        "  #Realizar la predicción\n",
        "  imagen_prueba_reshape = np.expand_dims(imagen_prueba, axis=0)\n",
        "  prediccion = model.predict(imagen_prueba_reshape, verbose=0)\n",
        "  digito_predicho = np.argmax(prediccion)\n",
        "\n",
        "  # Mostrar la prediccion y probabilidades\n",
        "  print(f\"\\nPrediccion del modelo: {digito_predicho}\")\n",
        "  print(\"Probabilidades para cada clase: \")\n",
        "  for i, prob in enumerate(prediccion[0]):\n",
        "    print(f\"Clase {i}: {prob:.4f}\")\n",
        "\n",
        "  # Comparar el resultado con la etiqueta real\n",
        "  print(f\"\\nEtiqueta real: {etiqueta_real}\")\n",
        "  if digito_predicho == etiqueta_real:\n",
        "    print(\"¡El modelo acertó en su predicción!\")\n",
        "  else:\n",
        "    print(\"El modelo falló en su predicción.\")\n",
        "\n",
        "  #Visualizacon final con prediccion y real\n",
        "  plt.figure(figsize=(5, 5))\n",
        "  plt.imshow(imagen_prueba, cmap='gray')\n",
        "  plt.text(2, 2, f'Pred: {digito_predicho}', color='red', fontsize=12, weight='bold',\n",
        "           bbox=dict(facecolor='white', alpha=0.8))\n",
        "  plt.text(2, 25, f'Real: {etiqueta_real}', color='blue', fontsize=12, weight='bold',\n",
        "           bbox=dict(facecolor='white', alpha=0.8))\n",
        "  plt.axis('off')\n",
        "  plt.show()\n",
        "\n",
        "else:\n",
        "  print(f\"No se encontró ninguna imagen con el digito {digito_deseado} en el conjunto de prueba.\")"
      ],
      "metadata": {
        "colab": {
          "base_uri": "https://localhost:8080/",
          "height": 1000
        },
        "id": "FUWEoX33ZYWR",
        "outputId": "33f748a2-604d-4cc9-e48c-39c55193f51a"
      },
      "execution_count": 11,
      "outputs": [
        {
          "output_type": "stream",
          "name": "stdout",
          "text": [
            "Entrenando el modelo...\n",
            "Epoch 1/3\n",
            "\u001b[1m1875/1875\u001b[0m \u001b[32m━━━━━━━━━━━━━━━━━━━━\u001b[0m\u001b[37m\u001b[0m \u001b[1m10s\u001b[0m 5ms/step - accuracy: 0.7254 - loss: 0.8598\n",
            "Epoch 2/3\n",
            "\u001b[1m1875/1875\u001b[0m \u001b[32m━━━━━━━━━━━━━━━━━━━━\u001b[0m\u001b[37m\u001b[0m \u001b[1m10s\u001b[0m 5ms/step - accuracy: 0.9254 - loss: 0.2507\n",
            "Epoch 3/3\n",
            "\u001b[1m1875/1875\u001b[0m \u001b[32m━━━━━━━━━━━━━━━━━━━━\u001b[0m\u001b[37m\u001b[0m \u001b[1m8s\u001b[0m 4ms/step - accuracy: 0.9446 - loss: 0.1917\n",
            "\n",
            "Precision en el conjunto de prueba: 0.9430\n"
          ]
        },
        {
          "output_type": "display_data",
          "data": {
            "text/plain": [
              "<Figure size 500x500 with 1 Axes>"
            ],
            "image/png": "[encoded data removed]"
          },
          "metadata": {}
        },
        {
          "output_type": "stream",
          "name": "stdout",
          "text": [
            "\n",
            "Prediccion del modelo: 1\n",
            "Probabilidades para cada clase: \n",
            "Clase 0: 0.0000\n",
            "Clase 1: 0.9990\n",
            "Clase 2: 0.0000\n",
            "Clase 3: 0.0000\n",
            "Clase 4: 0.0000\n",
            "Clase 5: 0.0000\n",
            "Clase 6: 0.0001\n",
            "Clase 7: 0.0000\n",
            "Clase 8: 0.0007\n",
            "Clase 9: 0.0000\n",
            "\n",
            "Etiqueta real: 1\n",
            "¡El modelo acertó en su predicción!\n"
          ]
        },
        {
          "output_type": "display_data",
          "data": {
            "text/plain": [
              "<Figure size 500x500 with 1 Axes>"
            ],
            "image/png": "[encoded data removed]"
          },
          "metadata": {}
        }
      ]
    }
  ]
}